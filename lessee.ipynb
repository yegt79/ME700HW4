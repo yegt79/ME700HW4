{
 "cells": [
  {
   "cell_type": "markdown",
   "metadata": {},
   "source": [
    "# 2D Heat Equation on a Square with Analytical Comparison\n",
    "\n",
    "This notebook solves the 2D heat equation on a square domain \\([0, 1] \\times [0, 1]\\) with a known analytical solution and compares the total heat content. The problem is:\n",
    "\\begin{align}\n",
    "\\frac{\\partial u}{\\partial t} &= \\kappa \\Delta u, \\quad (x, y) \\in [0, 1] \\times [0, 1], \\quad t > 0 \\\\\n",
    "u(x, y, 0) &= \\sin(\\pi x) \\sin(\\pi y), \\\\\n",
    "u &= 0 \\quad \\text{on } \\partial \\Omega,\n",
    "\\end{align}\n",
    "with \\( \\kappa = 1 \\). The analytical solution is:\n",
    "\\[ u(x, y, t) = e^{-2 \\pi^2 t} \\sin(\\pi x) \\sin(\\pi y) \\]\n",
    "The total heat content \\( Q(t) = \\int_\\Omega u(x, y, t) \\, dx \\, dy \\) is compared between numerical and analytical solutions."
   ]
  },
  {
   "cell_type": "code",
   "execution_count": 1,
   "metadata": {},
   "outputs": [],
   "source": [
    "import matplotlib as mpl\n",
    "import pyvista\n",
    "import ufl\n",
    "import numpy as np\n",
    "from petsc4py import PETSc\n",
    "from mpi4py import MPI\n",
    "from dolfinx import fem, mesh, io, plot\n",
    "from dolfinx.fem.petsc import assemble_vector, assemble_matrix, create_vector, apply_lifting, set_bcismiss\n",
    "import matplotlib.pyplot as plt\n",
    "\n",
    "# Define temporal parameters\n",
    "t = 0\n",
    "T = 0.5\n",
    "num_steps = 50\n",
    "dt = T / num_steps\n",
    "kappa = 1.0  # Diffusion coefficient\n",
    "\n",
    "# Define mesh\n",
    "nx, ny = 50, 50\n",
    "domain = mesh.create_rectangle(MPI.COMM_WORLD, [np.array([0, 0]), np.array([1, 1])], [nx, ny], mesh.CellType.quadrilateral)\n",
    "V = fem.functionspace(domain, (\"Lagrange\", 1))"
   ]
  },
  {
   "cell_type": "markdown",
   "metadata": {},
   "source": [
    "The square domain is meshed with quadrilateral elements for better accuracy on regular geometries."
   ]
  },
  {
   "cell_type": "code",
   "execution_count": 2,
   "metadata": {},
   "outputs": [],
   "source": [
    "# Create initial condition\n",
    "def initial_condition(x):\n",
    "    return np.sin(np.pi * x[0]) * np.sin(np.pi * x[1])\n",
    "\n",
    "u_n = fem.Function(V)\n",
    "u_n.name = \"u_n\"\n",
    "u_n.interpolate(initial_condition)\n",
    "\n",
    "# Create boundary condition\n",
    "fdim = domain.topology.dim - 1\n",
    "boundary_facets = mesh.locate_entities_boundary(\n",
    "    domain, fdim, lambda x: np.full(x.shape[1], True, dtype=bool))\n",
    "bc = fem.dirichletbc(PETSc.ScalarType(0), fem.locate_dofs_topological(V, fdim, boundary_facets), V)"
   ]
  },
  {
   "cell_type": "markdown",
   "metadata": {},
   "source": [
    "## Time-Dependent Output\n",
    "Store the solution for visualization in Paraview."
   ]
  },
  {
   "cell_type": "code",
   "execution_count": 3,
   "metadata": {},
   "outputs": [],
   "source": [
    "xdmf = io.XDMFFile(domain.comm, \"diffusion_square.xdmf\", \"w\")\n",
    "xdmf.write_mesh(domain)\n",
    "\n",
    "# Define solution variable\n",
    "uh = fem.Function(V)\n",
    "uh.name = \"uh\"\n",
    "uh.interpolate(initial_condition)\n",
    "xdmf.write_function(uh, t)"
   ]
  },
  {
   "cell_type": "markdown",
   "metadata": {},
   "source": [
    "## Variational Problem\n",
    "Define the weak form with diffusion coefficient \\( \\kappa \\)."
   ]
  },
  {
   "cell_type": "code",
   "execution_count": 4,
   "metadata": {},
   "outputs": [],
   "source": [
    "u, v = ufl.TrialFunction(V), ufl.TestFunction(V)\n",
    "f = fem.Constant(domain, PETSc.ScalarType(0))\n",
    "a = u * v * ufl.dx + kappa * dt * ufl.dot(ufl.grad(u), ufl.grad(v)) * ufl.dx\n",
    "L = (u_n + dt * f) * v * ufl.dx"
   ]
  },
  {
   "cell_type": "markdown",
   "metadata": {},
   "source": [
    "## Linear Algebra Structures\n",
    "Assemble the bilinear and linear forms."
   ]
  },
  {
   "cell_type": "code",
   "execution_count": 5,
   "metadata": {},
   "outputs": [],
   "source": [
    "bilinear_form = fem.form(a)\n",
    "linear_form = fem.form(L)\n",
    "\n",
    "A = assemble_matrix(bilinear_form, bcs=[bc])\n",
    "A.assemble()\n",
    "b = create_vector(linear_form)"
   ]
  },
  {
   "cell_type": "markdown",
   "metadata": {},
   "source": [
    "## Linear Solver\n",
    "Use a PETSc KSP solver with LU factorization."
   ]
  },
  {
   "cell_type": "code",
   "execution_count": 6,
   "metadata": {},
   "outputs": [],
   "source": [
    "solver = PETSc.KSP().create(domain.comm)\n",
    "solver.setOperators(A)\n",
    "solver.setType(PETSc.KSP.Type.PREONLY)\n",
    "solver.getPC().setType(PETSc.PC.Type.LU)"
   ]
  },
  {
   "cell_type": "markdown",
   "metadata": {},
   "source": [
    "## Analytical Solution and Total Heat Content\n",
    "Define the analytical solution and compute \\( Q(t) \\):\n",
    "\\[ u(x, y, t) = e^{-2 \\pi^2 t} \\sin(\\pi x) \\sin(\\pi y) \\]\n",
    "\\[ Q(t) = \\frac{4}{\\pi^2} e^{-2 \\pi^2 t} \\]"
   ]
  },
  {
   "cell_type": "code",
   "execution_count": 7,
   "metadata": {},
   "outputs": [],
   "source": [
    "def analytical_solution(x, t, kappa=1.0):\n",
    "    return np.exp(-2 * kappa * np.pi**2 * t) * np.sin(np.pi * x[0]) * np.sin(np.pi * x[1])\n",
    "\n",
    "def analytical_heat_content(t, kappa=1.0):\n",
    "    return (4 / np.pi**2) * np.exp(-2 * kappa * np.pi**2 * t)"
   ]
  },
  {
   "cell_type": "markdown",
   "metadata": {},
   "source": [
    "## Visualization with PyVista\n",
    "Create a GIF of the numerical solution."
   ]
  },
  {
   "cell_type": "code",
   "execution_count": 8,
   "metadata": {},
   "outputs": [],
   "source": [
    "pyvista.start_xvfb()\n",
    "grid = pyvista.UnstructuredGrid(*plot.vtk_mesh(V))\n",
    "plotter = pyvista.Plotter()\n",
    "plotter.open_gif(\"u_time_square.gif\", fps=10)\n",
    "grid.point_data[\"uh\"] = uh.x.array\n",
    "warped = grid.warp_by_scalar(\"uh\", factor=1)\n",
    "viridis = mpl.colormaps.get_cmap(\"viridis\").resampled(25)\n",
    "sargs = dict(title_font_size=25, label_font_size=20, fmt=\"%.2e\", color=\"black\",\n",
    "             position_x=0.1, position_y=0.8, width=0.8, height=0.1)\n",
    "renderer = plotter.add_mesh(warped, show_edges=True, lighting=False,\n",
    "                            cmap=viridis, scalar_bar_args=sargs,\n",
    "                            clim=[0, max(uh.x.array)])"
   ]
  },
  {
   "cell_type": "markdown",
   "metadata": {},
   "source": [
    "## Time-Stepping and Comparison\n",
    "Solve the problem, compute numerical heat content, and compare with analytical."
   ]
  },
  {
   "cell_type": "code",
   "execution_count": 9,
   "metadata": {},
   "outputs": [],
   "source": [
    "# Lists to store heat content\n",
    "times = []\n",
    "Q_numerical = []\n",
    "Q_analytical = []\n",
    "\n",
    "# Form for numerical heat content\n",
    "Q_form = fem.form(uh * ufl.dx)\n",
    "\n",
    "for i in range(num_steps):\n",
    "    t += dt\n",
    "    \n",
    "    # Update right-hand side\n",
    "    with b.localForm() as loc_b:\n",
    "        loc_b.set(0)\n",
    "    assemble_vector(b, linear_form)\n",
    "    apply_lifting(b, [bilinear_form], [[bc]])\n",
    "    b.ghostUpdate(addv=PETSc.InsertMode.ADD_VALUES, mode=PETSc.ScatterMode.REVERSE)\n",
    "    set_bc(b, [bc])\n",
    "    \n",
    "    # Solve\n",
    "    solver.solve(b, uh.x.petsc_vec)\n",
    "    uh.x.scatter_forward()\n",
    "    \n",
    "    # Update previous solution\n",
    "    u_n.x.array[:] = uh.x.array\n",
    "    \n",
    "    # Write to file\n",
    "    xdmf.write_function(uh, t)\n",
    "    \n",
    "    # Update visualization\n",
    "    new_warped = grid.warp_by_scalar(\"uh\", factor=1)\n",
    "    warped.points[:, :] = new_warped.points\n",
    "    warped.point_data[\"uh\"][:] = uh.x.array\n",
    "    plotter.write_frame()\n",
    "    \n",
    "    # Compute heat content\n",
    "    Q_num = fem.assemble_scalar(Q_form)\n",
    "    Q_ana = analytical_heat_content(t, kappa)\n",
    "    times.append(t)\n",
    "    Q_numerical.append(Q_num)\n",
    "    Q_analytical.append(Q_ana)\n",
    "\n",
    "plotter.close()\n",
    "xdmf.close()\n",
    "\n",
    "# Plot heat content comparison\n",
    "plt.figure()\n",
    "plt.plot(times, Q_numerical, 'o-', label='Numerical')\n",
    "plt.plot(times, Q_analytical, 's-', label='Analytical')\n",
    "plt.xlabel('Time')\n",
    "plt.ylabel('Total Heat Content Q(t)')\n",
    "plt.legend()\n",
    "plt.grid(True)\n",
    "plt.title('Comparison of Total Heat Content')\n",
    "plt.show()\n",
    "\n",
    "# Compute relative error at final time\n",
    "relative_error = abs(Q_numerical[-1] - Q_analytical[-1]) / Q_analytical[-1]\n",
    "print(f'Relative error in Q at t={T}: {relative_error:.2e}')"
   ]
  },
  {
   "cell_type": "markdown",
   "metadata": {},
   "source": [
    "<img src=\"./u_time_square.gif\" alt=\"gif\" class=\"bg-primary mb-1\" width=\"800px\">"
   ]
  },
  {
   "cell_type": "markdown",
   "metadata": {},
   "source": [
    "## Animation with Paraview\n",
    "Open `diffusion_square.xdmf` in Paraview, add time annotation, and save the animation as described previously."
   ]
  }
 ],
 "metadata": {
  "jupytext": {
   "formats": "ipynb,py:light"
  },
  "kernelspec": {
   "display_name": "Python 3 (ipykernel)",
   "language": "python",
   "name": "python3"
  },
  "language_info": {
   "codemirror_mode": {
    "name": "ipython",
    "version": 3
   },
   "file_extension": ".py",
   "mimetype": "text/x-python",
   "name": "python",
   "nbconvert_exporter": "python",
   "pygments_lexer": "ipython3",
   "version": "3.13.3"
  }
 },
 "nbformat": 4,
 "nbformat_minor": 4
}

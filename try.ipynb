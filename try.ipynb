{
  "cells": [
    {
      "cell_type": "markdown",
      "source": [
        "# Poisson Solver",
        "",
        "Solves 2D Poisson equation on a unit square using FEniCSx. Uses h-refinement and p-refinement. Computes L2 error and creates visualizations."
      ]
    },
    {
      "cell_type": "code",
      "source": [
        "import matplotlib.pyplot as plt\n",
        "import numpy as np\n",
        "from petsc4py import PETSc\n",
        "from mpi4py import MPI\n",
        "from dolfinx import fem, mesh, plot\n",
        "import ufl\n",
        "import pyvista\n",
        "import matplotlib as mpl\n",
        "\n",
        "# Import the necessary functions, including assemble_matrix\n",
        "from dolfinx.fem.petsc import assemble_matrix, assemble_vector, create_vector, apply_lifting, set_bc"
      ],
      "metadata": {
        "tags": []
      }
    },
    {
      "cell_type": "markdown",
      "source": [
        "## Libraries",
        "",
        "Imports tools for plotting, parallel computing, finite elements, and visualization."
      ]
    },
    {
      "cell_type": "code",
      "source": [
        "# Define the domain and analytical solution\n",
        "def analytical_solution(x):\n",
        "    return np.sin(np.pi * x[0]) * np.sin(np.pi * x[1])\n",
        "\n",
        "# Compute the L2 norm of the error\n",
        "def compute_l2_error(u_numerical, V, domain):\n",
        "    u_analytical = fem.Function(V)\n",
        "    u_analytical.interpolate(analytical_solution)\n",
        "    error_form = ufl.inner(u_numerical - u_analytical, u_numerical - u_analytical) * ufl.dx\n",
        "    error_l2 = np.sqrt(fem.assemble_scalar(fem.form(error_form)))\n",
        "    norm_analytical = np.sqrt(fem.assemble_scalar(fem.form(ufl.inner(u_analytical, u_analytical) * ufl.dx)))\n",
        "    relative_error = error_l2 / norm_analytical if norm_analytical > 0 else error_l2\n",
        "    return relative_error"
      ],
      "metadata": {
        "tags": []
      }
    },
    {
      "cell_type": "markdown",
      "source": [
        "## Solution and Error",
        "",
        "Defines analytical solution and computes L2 error between numerical and analytical results."
      ]
    },
    {
      "cell_type": "code",
      "source": [
        "# Solve the Poisson equation and return the solution for visualization\n",
        "def solve_poisson(nx, ny, degree, cell_type, case_name):\n",
        "    # Create mesh\n",
        "    domain = mesh.create_rectangle(MPI.COMM_WORLD, [np.array([0, 0]), np.array([1, 1])], [nx, ny], cell_type)\n",
        "    \n",
        "    # Define function space\n",
        "    V = fem.functionspace(domain, (\"Lagrange\", degree))\n",
        "    \n",
        "    # Boundary condition (u = 0 on the boundary)\n",
        "    fdim = domain.topology.dim - 1\n",
        "    boundary_facets = mesh.locate_entities_boundary(\n",
        "        domain, fdim, lambda x: np.full(x.shape[1], True, dtype=bool))\n",
        "    bc = fem.dirichletbc(PETSc.ScalarType(0), fem.locate_dofs_topological(V, fdim, boundary_facets), V)\n",
        "    \n",
        "    # Define variational problem: -Delta u = f\n",
        "    u, v = ufl.TrialFunction(V), ufl.TestFunction(V)\n",
        "    x = ufl.SpatialCoordinate(domain)  # Define spatial coordinates\n",
        "    f = 2 * np.pi**2 * ufl.sin(np.pi * x[0]) * ufl.sin(np.pi * x[1])  # Right-hand side\n",
        "    a = ufl.inner(ufl.grad(u), ufl.grad(v)) * ufl.dx  # Bilinear form\n",
        "    L = f * v * ufl.dx  # Linear form\n",
        "    \n",
        "    # Assemble system\n",
        "    bilinear_form = fem.form(a)\n",
        "    linear_form = fem.form(L)\n",
        "    A = assemble_matrix(bilinear_form, bcs=[bc])\n",
        "    A.assemble()\n",
        "    b = create_vector(linear_form)\n",
        "    \n",
        "    # Assemble right-hand side\n",
        "    with b.localForm() as loc_b:\n",
        "        loc_b.set(0)\n",
        "    assemble_vector(b, linear_form)\n",
        "    apply_lifting(b, [bilinear_form], [[bc]])\n",
        "    b.ghostUpdate(addv=PETSc.InsertMode.ADD_VALUES, mode=PETSc.ScatterMode.REVERSE)\n",
        "    set_bc(b, [bc])\n",
        "    \n",
        "    # Solve\n",
        "    uh = fem.Function(V)\n",
        "    solver = PETSc.KSP().create(domain.comm)\n",
        "    solver.setOperators(A)\n",
        "    solver.setType(PETSc.KSP.Type.PREONLY)\n",
        "    solver.getPC().setType(PETSc.PC.Type.LU)\n",
        "    solver.solve(b, uh.x.petsc_vec)\n",
        "    uh.x.scatter_forward()\n",
        "    \n",
        "    # Compute L2 error\n",
        "    relative_error = compute_l2_error(uh, V, domain)\n",
        "    \n",
        "    return uh, V, domain, relative_error"
      ],
      "metadata": {
        "tags": []
      }
    },
    {
      "cell_type": "markdown",
      "source": [
        "## Solver",
        "",
        "Solves Poisson equation on a mesh with nx x ny elements. Applies boundary conditions and computes solution."
      ]
    },
    {
      "cell_type": "code",
      "source": [
        "# Visualize the analytical solution as a static image\n",
        "def visualize_analytical():\n",
        "    domain = mesh.create_rectangle(MPI.COMM_WORLD, [np.array([0, 0]), np.array([1, 1])], [50, 50], mesh.CellType.quadrilateral)\n",
        "    V = fem.functionspace(domain, (\"Lagrange\", 1))\n",
        "    u_analytical = fem.Function(V)\n",
        "    u_analytical.interpolate(analytical_solution)\n",
        "    \n",
        "    pyvista.start_xvfb()\n",
        "    grid = pyvista.UnstructuredGrid(*plot.vtk_mesh(V))\n",
        "    grid.point_data[\"u_analytical\"] = u_analytical.x.array\n",
        "    warped = grid.warp_by_scalar(\"u_analytical\", factor=1.0)\n",
        "    \n",
        "    plotter = pyvista.Plotter(off_screen=True)\n",
        "    viridis = mpl.colormaps.get_cmap(\"viridis\").resampled(25)\n",
        "    sargs = dict(title_font_size=20, label_font_size=15, fmt=\"%.2e\", color=\"black\",\n",
        "                 position_x=0.1, position_y=0.8, width=0.8, height=0.1)\n",
        "    plotter.add_mesh(warped, show_edges=True, lighting=False, cmap=viridis,\n",
        "                     scalar_bar_args=sargs, clim=[0, 1])\n",
        "    plotter.view_xy()\n",
        "    plotter.camera.zoom(1.5)\n",
        "    plotter.add_title(\"Analytical Solution\", font_size=12)\n",
        "    plotter.show(screenshot=\"solution_analytical.png\")\n",
        "    plotter.close()"
      ],
      "metadata": {
        "tags": []
      }
    },
    {
      "cell_type": "markdown",
      "source": [
        "## Visualization",
        "",
        "Creates image of analytical solution using PyVista."
      ]
    },
    {
      "cell_type": "code",
      "source": [
        "# Define cases\n",
        "h_refinement_cases = [\n",
        "    (5, 5, 1, mesh.CellType.quadrilateral, \"h-ref: 5x5, p=1\"),\n",
        "    (20, 20, 1, mesh.CellType.quadrilateral, \"h-ref: 20x20, p=1\"),\n",
        "    (50, 50, 1, mesh.CellType.quadrilateral, \"h-ref: 50x50, p=1\"),\n",
        "    (100, 100, 1, mesh.CellType.quadrilateral, \"h-ref: 100x100, p=1\")\n",
        "]\n",
        "\n",
        "p_refinement_cases = [\n",
        "    (20, 20, 3, mesh.CellType.triangle, \"p-ref: degree=3, tri\"),\n",
        "    (20, 20, 6, mesh.CellType.triangle, \"p-ref: degree=6, tri\"),\n",
        "    (20, 20, 4, mesh.CellType.quadrilateral, \"p-ref: degree=4, quad\")\n",
        "]\n",
        "\n",
        "all_cases = h_refinement_cases + p_refinement_cases\n",
        "\n",
        "# Store results\n",
        "relative_errors = []\n",
        "case_names = []\n",
        "solutions = []\n",
        "\n",
        "# Run simulations for all cases and store solutions\n",
        "for nx, ny, degree, cell_type, case_name in all_cases:\n",
        "    print(f\"Running case: {case_name}\")\n",
        "    uh, V, domain, rel_err = solve_poisson(nx, ny, degree, cell_type, case_name)\n",
        "    relative_errors.append(rel_err)\n",
        "    case_names.append(case_name)\n",
        "    solutions.append((uh, V, domain, case_name, rel_err))"
      ],
      "metadata": {
        "tags": []
      }
    },
    {
      "cell_type": "markdown",
      "source": [
        "## Cases",
        "",
        "Runs h-refinement and p-refinement cases and stores results."
      ]
    },
    {
      "cell_type": "code",
      "source": [
        "# Create GIF animation of refinement progression\n",
        "pyvista.start_xvfb()\n",
        "plotter = pyvista.Plotter(off_screen=True)\n",
        "plotter.open_gif(\"refinement_evolution.gif\", fps=2)\n",
        "\n",
        "viridis = mpl.colormaps.get_cmap(\"viridis\").resampled(25)\n",
        "sargs = dict(title_font_size=20, label_font_size=15, fmt=\"%.2e\", color=\"black\",\n",
        "             position_x=0.1, position_y=0.8, width=0.8, height=0.1)\n",
        "\n",
        "for uh, V, domain, case_name, rel_err in solutions:\n",
        "    grid = pyvista.UnstructuredGrid(*plot.vtk_mesh(V))\n",
        "    grid.point_data[\"uh\"] = uh.x.array\n",
        "    warped = grid.warp_by_scalar(\"uh\", factor=1.0)\n",
        "    \n",
        "    plotter.clear()\n",
        "    plotter.add_mesh(warped, show_edges=True, lighting=False, cmap=viridis,\n",
        "                     scalar_bar_args=sargs, clim=[0, 1])\n",
        "    plotter.view_xy()\n",
        "    plotter.camera.zoom(1.5)\n",
        "    plotter.add_title(f\"{case_name}\\nL2 Error: {rel_err:.2e}\", font_size=12)\n",
        "    plotter.write_frame()\n",
        "\n",
        "plotter.close()"
      ],
      "metadata": {
        "tags": []
      }
    },
    {
      "cell_type": "markdown",
      "source": [
        "## GIF",
        "",
        "Creates GIF showing solutions for each case."
      ]
    },
    {
      "cell_type": "code",
      "source": [
        "# Visualize the analytical solution\n",
        "visualize_analytical()\n",
        "\n",
        "# Plot comparison of relative errors\n",
        "plt.figure(figsize=(10, 6))\n",
        "bars = plt.bar(range(len(case_names)), relative_errors, tick_label=case_names)\n",
        "plt.xlabel('Case')\n",
        "plt.ylabel('Relative L2 Error')\n",
        "plt.title('Relative L2 Error Comparison for h- and p-Refinement')\n",
        "plt.yscale('log')  # Use logarithmic scale for better visualization\n",
        "plt.xticks(rotation=45, ha='right')\n",
        "plt.grid(True, which=\"both\", ls=\"--\")\n",
        "\n",
        "# Add error values on top of bars\n",
        "for bar, error in zip(bars, relative_errors):\n",
        "    plt.text(bar.get_x() + bar.get_width()/2, bar.get_height(), f'{error:.2e}',\n",
        "             ha='center', va='bottom')\n",
        "\n",
        "plt.tight_layout()\n",
        "plt.savefig('relative_l2_error_comparison_poisson.png')\n",
        "plt.show()\n",
        "\n",
        "# Print relative errors\n",
        "print(\"\\nRelative L2 Errors:\")\n",
        "for name, error in zip(case_names, relative_errors):\n",
        "    print(f\"{name}: {error:.2e}\")"
      ],
      "metadata": {
        "tags": []
      }
    },
    {
      "cell_type": "markdown",
      "source": [
        "## Output",
        "",
        "Generates analytical image, error plot, and prints errors."
      ]
    }
  ],
  "metadata": {
    "kernelspec": {
      "display_name": "Python 3",
      "language": "python",
      "name": "python3"
    },
    "language_info": {
      "codemirror_mode": {
        "name": "ipython",
        "version": 3
      },
      "file_extension": ".py",
      "mimetype": "text/x-python",
      "name": "python",
      "nbconvert_exporter": "python",
      "pygments_lexer": "ipython3",
      "version": "3.10.12"
    }
  },
  "nbformat": 4,
  "nbformat_minor": 5
}

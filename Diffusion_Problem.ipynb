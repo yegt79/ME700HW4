{
 "cells": [
  {
   "cell_type": "markdown",
   "metadata": {},
   "source": [
    "# Diffusion of a Gaussian Function on a Circular Domain\n",
    "\n",
    "Author: Jørgen S. Dokken (modified for circular domain)\n",
    "\n",
    "This notebook solves the diffusion of a Gaussian hill on a circular domain (disk centered at (0,0) with radius 2). The initial condition is:\n",
    "\\begin{align}\n",
    "    u_0(x,y) = e^{-5x^2 - 5y^2}\n",
    "\\end{align}\n",
    "We use homogeneous Dirichlet boundary conditions ($u = 0$) on the circular boundary. The domain is meshed with quadrilateral-dominated elements using `gmsh`.\n",
    "\n",
    "The mesh is generated using `gmsh`, and the problem is solved using DOLFINx with a finite element method."
   ]
  },
  {
   "cell_type": "code",
   "execution_count": 1,
   "metadata": {},
   "outputs": [],
   "source": [
    "import matplotlib as mpl\n",
    "import pyvista\n",
    "import ufl\n",
    "import numpy as np\n",
    "from petsc4py import PETSc\n",
    "from mpi4py import MPI\n",
    "from dolfinx import fem, mesh, io, plot\n",
    "from dolfinx.fem.petsc import assemble_vector, assemble_matrix, create_vector, apply_lifting, set_bc\n",
    "import gmsh\n",
    "from dolfinx.io import gmshio\n",
    "\n",
    "# Define temporal parameters\n",
    "t = 0\n",
    "T = 1.0\n",
    "num_steps = 50\n",
    "dt = T / num_steps\n",
    "\n",
    "# Generate circular mesh with gmsh\n",
    "gmsh.initialize()\n",
    "gmsh.model.add(\"disk\")\n",
    "gmsh.model.occ.addDisk(0, 0, 0, 2, 2)  # Disk centered at (0,0), radius 2\n",
    "gmsh.model.occ.synchronize()\n",
    "gmsh.model.addPhysicalGroup(2, [1], tag=1)  # Mark surface\n",
    "gmsh.model.addPhysicalGroup(1, [1], tag=2)  # Mark boundary\n",
    "gmsh.option.setNumber(\"Mesh.RecombineAll\", 1)  # Encourage quadrilateral elements\n",
    "gmsh.option.setNumber(\"Mesh.Algorithm\", 8)  # Use frontal algorithm for quads\n",
    "gmsh.model.mesh.setSize(gmsh.model.getEntities(0), 0.08)  # Approximate element size\n",
    "gmsh.model.mesh.generate(2)\n",
    "gmsh_model_rank = 0\n",
    "mesh_comm = MPI.COMM_WORLD\n",
    "domain, _, _ = gmshio.model_to_mesh(gmsh.model, mesh_comm, gmsh_model_rank, gdim=2)\n",
    "gmsh.finalize()\n",
    "\n",
    "# Define function space\n",
    "V = fem.functionspace(domain, (\"Lagrange\", 1))"
   ]
  },
  {
   "cell_type": "markdown",
   "metadata": {},
   "source": [
    "The circular domain is a disk of radius 2, meshed with quadrilateral-dominated elements for better accuracy on regular geometries. The mesh resolution is controlled by the element size in `gmsh`."
   ]
  },
  {
   "cell_type": "code",
   "execution_count": 2,
   "metadata": {},
   "outputs": [],
   "source": [
    "# Create initial condition\n",
    "def initial_condition(x, a=5):\n",
    "    return np.exp(-a * (x[0]**2 + x[1]**2))\n",
    "\n",
    "u_n = fem.Function(V)\n",
    "u_n.name = \"u_n\"\n",
    "u_n.interpolate(initial_condition)\n",
    "\n",
    "# Create boundary condition (Dirichlet on entire circular boundary)\n",
    "fdim = domain.topology.dim - 1\n",
    "boundary_facets = mesh.locate_entities_boundary(\n",
    "    domain, fdim, lambda x: np.full(x.shape[1], True, dtype=bool))\n",
    "bc = fem.dirichletbc(PETSc.ScalarType(0), fem.locate_dofs_topological(V, fdim, boundary_facets), V)"
   ]
  },
  {
   "cell_type": "markdown",
   "metadata": {},
   "source": [
    "## Time-Dependent Output\n",
    "We use an `XDMFFile` to store the solution for visualization in Paraview, storing the mesh once and appending solutions to reduce file size."
   ]
  },
  {
   "cell_type": "code",
   "execution_count": 3,
   "metadata": {},
   "outputs": [],
   "source": [
    "xdmf = io.XDMFFile(domain.comm, \"diffusion_circular.xdmf\", \"w\")\n",
    "xdmf.write_mesh(domain)\n",
    "\n",
    "# Define solution variable\n",
    "uh = fem.Function(V)\n",
    "uh.name = \"uh\"\n",
    "uh.interpolate(initial_condition)\n",
    "xdmf.write_function(uh, t)"
   ]
  },
  {
   "cell_type": "markdown",
   "metadata": {},
   "source": [
    "## Variational Problem and Solver\n",
    "Define the variational problem for the diffusion equation."
   ]
  },
  {
   "cell_type": "code",
   "execution_count": 4,
   "metadata": {},
   "outputs": [],
   "source": [
    "u, v = ufl.TrialFunction(V), ufl.TestFunction(V)\n",
    "f = fem.Constant(domain, PETSc.ScalarType(0))\n",
    "a = u * v * ufl.dx + dt * ufl.dot(ufl.grad(u), ufl.grad(v)) * ufl.dx\n",
    "L = (u_n + dt * f) * v * ufl.dx"
   ]
  },
  {
   "cell_type": "markdown",
   "metadata": {},
   "source": [
    "## Preparing Linear Algebra Structures\n",
    "Assemble the bilinear and linear forms."
   ]
  },
  {
   "cell_type": "code",
   "execution_count": 5,
   "metadata": {},
   "outputs": [],
   "source": [
    "bilinear_form = fem.form(a)\n",
    "linear_form = fem.form(L)"
   ]
  },
  {
   "cell_type": "markdown",
   "metadata": {},
   "source": [
    "Assemble the matrix once and create a reusable vector for the right-hand side."
   ]
  },
  {
   "cell_type": "code",
   "execution_count": 6,
   "metadata": {},
   "outputs": [],
   "source": [
    "A = assemble_matrix(bilinear_form, bcs=[bc])\n",
    "A.assemble()\n",
    "b = create_vector(linear_form)"
   ]
  },
  {
   "cell_type": "markdown",
   "metadata": {},
   "source": [
    "## Linear Solver\n",
    "Set up a PETSc KSP solver with LU factorization."
   ]
  },
  {
   "cell_type": "code",
   "execution_count": 7,
   "metadata": {},
   "outputs": [],
   "source": [
    "solver = PETSc.KSP().create(domain.comm)\n",
    "solver.setOperators(A)\n",
    "solver.setType(PETSc.KSP.Type.PREONLY)\n",
    "solver.getPC().setType(PETSc.PC.Type.LU)"
   ]
  },
  {
   "cell_type": "markdown",
   "metadata": {},
   "source": [
    "## Visualization with PyVista\n",
    "Visualize the solution as a GIF using PyVista."
   ]
  },
  {
   "cell_type": "code",
   "execution_count": 8,
   "metadata": {},
   "outputs": [],
   "source": [
    "pyvista.start_xvfb()\n",
    "grid = pyvista.UnstructuredGrid(*plot.vtk_mesh(V))\n",
    "plotter = pyvista.Plotter()\n",
    "plotter.open_gif(\"u_time_circular.gif\", fps=10)\n",
    "grid.point_data[\"uh\"] = uh.x.array\n",
    "warped = grid.warp_by_scalar(\"uh\", factor=1)\n",
    "viridis = mpl.colormaps.get_cmap(\"viridis\").resampled(25)\n",
    "sargs = dict(title_font_size=25, label_font_size=20, fmt=\"%.2e\", color=\"black\",\n",
    "             position_x=0.1, position_y=0.8, width=0.8, height=0.1)\n",
    "renderer = plotter.add_mesh(warped, show_edges=True, lighting=False,\n",
    "                            cmap=viridis, scalar_bar_args=sargs,\n",
    "                            clim=[0, max(uh.x.array)])"
   ]
  },
  {
   "cell_type": "markdown",
   "metadata": {},
   "source": [
    "## Time-Stepping Loop\n",
    "Solve the problem at each time step, updating the solution and visualization."
   ]
  },
  {
   "cell_type": "code",
   "execution_count": 9,
   "metadata": {},
   "outputs": [],
   "source": [
    "for i in range(num_steps):\n",
    "    t += dt\n",
    "    with b.localForm() as loc_b:\n",
    "        loc_b.set(0)\n",
    "    assemble_vector(b, linear_form)\n",
    "    apply_lifting(b, [bilinear_form], [[bc]])\n",
    "    b.ghostUpdate(addv=PETSc.InsertMode.ADD_VALUES, mode=PETSc.ScatterMode.REVERSE)\n",
    "    set_bc(b, [bc])\n",
    "    solver.solve(b, uh.x.petsc_vec)\n",
    "    uh.x.scatter_forward()\n",
    "    u_n.x.array[:] = uh.x.array\n",
    "    xdmf.write_function(uh, t)\n",
    "    new_warped = grid.warp_by_scalar(\"uh\", factor=1)\n",
    "    warped.points[:, :] = new_warped.points\n",
    "    warped.point_data[\"uh\"][:] = uh.x.array\n",
    "    plotter.write_frame()\n",
    "plotter.close()\n",
    "xdmf.close()"
   ]
  },
  {
   "cell_type": "markdown",
   "metadata": {},
   "source": [
    "<img src=\"./u_time_circular.gif\" alt=\"gif\" class=\"bg-primary mb-1\" width=\"800px\">"
   ]
  },
  {
   "cell_type": "markdown",
   "metadata": {},
   "source": [
    "## Animation with Paraview\n",
    "Open the `diffusion_circular.xdmf` file in Paraview, apply settings, add time annotation, and save the animation as described in the original notebook."
   ]
  }
 ],
 "metadata": {
  "jupytext": {
   "formats": "ipynb,py:light"
  },
  "kernelspec": {
   "display_name": "Python 3 (ipykernel)",
   "language": "python",
   "name": "python3"
  },
  "language_info": {
   "codemirror_mode": {
    "name": "ipython",
    "version": 3
   },
   "file_extension": ".py",
   "mimetype": "text/x-python",
   "name": "python",
   "nbconvert_exporter": "python",
   "pygments_lexer": "ipython3",
   "version": "3.13.3"
  }
 },
 "nbformat": 4,
 "nbformat_minor": 4
}

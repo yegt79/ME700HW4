{
 "cells": [
  {
   "cell_type": "markdown",
   "metadata": {},
   "source": [
    "# Diffusion of a Gaussian Function, Failure Due to Bad Boundary Conditions\n",
    "\n",
    "This notebook solves the diffusion of a Gaussian hill with inappropriate boundary conditions, leading to poor finite element analysis (FEA) results. The initial condition is:\n",
    "\\begin{align}\n",
    "    u_0(x,y) = e^{-5x^2 - 5y^2}\n",
    "\\end{align}\n",
    "on the domain $[-2,2]\\times[-2,2]$. Instead of homogeneous Dirichlet boundary conditions ($u_D = 0$), we use Neumann boundary conditions ($\\nabla u \\cdot n = 0$) on most boundaries, with a single-point Dirichlet condition ($u = 0$ at $(-2, -2)$) to avoid a singular system. This traps the solution, preventing proper diffusion and causing unphysical results.\n",
    "\n",
    "The mesh resolution is set to $nx, ny = 20, 20$ to ensure the mesh is not the primary source of error, isolating the effect of bad boundary conditions. Visualizations (PyVista GIF and XDMF for Paraview) show the unphysical solution."
   ]
  },
  {
   "cell_type": "code",
   "execution_count": null,
   "metadata": {},
   "outputs": [],
   "source": [
    "import matplotlib as mpl\n",
    "import pyvista\n",
    "import ufl\n",
    "import numpy as np\n",
    "from petsc4py import PETSc\n",
    "from mpi4py import MPI\n",
    "from dolfinx import fem, mesh, io, plot\n",
    "from dolfinx.fem.petsc import assemble_vector, assemble_matrix, create_vector, apply_lifting, set_bc\n",
    "\n",
    "# Define temporal parameters\n",
    "t = 0\n",
    "T = 1.0\n",
    "num_steps = 50\n",
    "dt = T / num_steps\n",
    "\n",
    "# Define mesh (reasonable resolution to isolate boundary condition effects)\n",
    "nx, ny = 20, 20  # Increased from 2,2 to ensure mesh is not the primary issue\n",
    "domain = mesh.create_rectangle(MPI.COMM_WORLD, [np.array([-2, -2]), np.array([2, 2])], [nx, ny], mesh.CellType.triangle)\n",
    "V = fem.functionspace(domain, (\"Lagrange\", 1))"
   ]
  },
  {
   "cell_type": "markdown",
   "metadata": {},
   "source": [
    "## Initial and Boundary Conditions\n",
    "\n",
    "The initial condition is a Gaussian hill. The boundary conditions are deliberately incorrect: Neumann ($\\nabla u \\cdot n = 0$) on most boundaries (implicitly applied by omitting Dirichlet BCs), with a single-point Dirichlet condition at $(-2, -2)$ to ensure solver convergence. This prevents the Gaussian from diffusing properly, leading to unphysical results."
   ]
  },
  {
   "cell_type": "code",
   "execution_count": null,
   "metadata": {},
   "outputs": [],
   "source": [
    "# Create initial condition\n",
    "def initial_condition(x, a=5):\n",
    "    return np.exp(-a * (x[0]**2 + x[1]**2))\n",
    "\n",
    "u_n = fem.Function(V)\n",
    "u_n.name = \"u_n\"\n",
    "u_n.interpolate(initial_condition)\n",
    "\n",
    "# Create boundary condition (bad: Neumann on most boundaries, minimal Dirichlet)\n",
    "fdim = domain.topology.dim - 1\n",
    "# Single-point Dirichlet BC at (-2, -2) to avoid singular system\n",
    "def fixed_point(x):\n",
    "    return np.logical_and(np.isclose(x[0], -2), np.isclose(x[1], -2))\n",
    "u_zero = PETSc.ScalarType(0)\n",
    "bc = fem.dirichletbc(u_zero, fem.locate_dofs_geometrical(V, fixed_point), V)"
   ]
  },
  {
   "cell_type": "markdown",
   "metadata": {},
   "source": [
    "## Time-Dependent Output\n",
    "\n",
    "We use an `XDMFFile` to store the solution for Paraview visualization and PyVista for real-time GIF animation. The XDMF file stores the mesh once and appends solutions, reducing storage. The GIF will show the unphysical diffusion caused by bad boundary conditions."
   ]
  },
  {
   "cell_type": "code",
   "execution_count": null,
   "metadata": {},
   "outputs": [],
   "source": [
    "xdmf = io.XDMFFile(domain.comm, \"bad_boundary_diffusion.xdmf\", \"w\")\n",
    "xdmf.write_mesh(domain)\n",
    "\n",
    "# Define solution variable and interpolate initial solution\n",
    "uh = fem.Function(V)\n",
    "uh.name = \"uh\"\n",
    "uh.interpolate(initial_condition)\n",
    "xdmf.write_function(uh, t)"
   ]
  },
  {
   "cell_type": "markdown",
   "metadata": {},
   "source": [
    "## Variational Problem and Solver\n",
    "\n",
    "The variational problem is the same as the original diffusion problem, but the Neumann boundary conditions (implicitly applied) cause incorrect behavior. We use a PETSc solver with LU factorization for robustness."
   ]
  },
  {
   "cell_type": "code",
   "execution_count": null,
   "metadata": {},
   "outputs": [],
   "source": [
    "u, v = ufl.TrialFunction(V), ufl.TestFunction(V)\n",
    "f = fem.Constant(domain, PETSc.ScalarType(0))\n",
    "a = u * v * ufl.dx + dt * ufl.dot(ufl.grad(u), ufl.grad(v)) * ufl.dx\n",
    "L = (u_n + dt * f) * v * ufl.dx\n",
    "\n",
    "# Assemble forms\n",
    "bilinear_form = fem.form(a)\n",
    "linear_form = fem.form(L)\n",
    "\n",
    "# Assemble matrix and vector\n",
    "A = assemble_matrix(bilinear_form, bcs=[bc])\n",
    "A.assemble()\n",
    "b = create_vector(linear_form)\n",
    "\n",
    "# Create solver\n",
    "solver = PETSc.KSP().create(domain.comm)\n",
    "solver.setOperators(A)\n",
    "solver.setType(PETSc.KSP.Type.PREONLY)\n",
    "solver.getPC().setType(PETSc.PC.Type.LU)"
   ]
  },
  {
   "cell_type": "markdown",
   "metadata": {},
   "source": [
    "## Visualization with PyVista\n",
    "\n",
    "We create a GIF animation (`bad_boundary_u_time.gif`) to visualize the solution’s evolution. The warped mesh will highlight the unphysical behavior (e.g., Gaussian hill not diffusing properly, boundary artifacts). The solution will persist longer than expected due to Neumann BCs trapping the mass."
   ]
  },
  {
   "cell_type": "code",
   "execution_count": null,
   "metadata": {},
   "outputs": [],
   "source": [
    "pyvista.start_xvfb()\n",
    "grid = pyvista.UnstructuredGrid(*plot.vtk_mesh(V))\n",
    "plotter = pyvista.Plotter()\n",
    "plotter.open_gif(\"bad_boundary_u_time.gif\", fps=10)\n",
    "\n",
    "grid.point_data[\"uh\"] = uh.x.array\n",
    "warped = grid.warp_by_scalar(\"uh\", factor=1)\n",
    "viridis = mpl.colormaps.get_cmap(\"viridis\").resampled(25)\n",
    "sargs = dict(title_font_size=25, label_font_size=20, fmt=\"%.2e\", color=\"black\",\n",
    "             position_x=0.1, position_y=0.8, width=0.8, height=0.1)\n",
    "plotter.add_mesh(warped, show_edges=True, lighting=False, cmap=viridis, scalar_bar_args=sargs,\n",
    "                 clim=[0, max(uh.x.array)])\n",
    "plotter.write_frame()"
   ]
  },
  {
   "cell_type": "markdown",
   "metadata": {},
   "source": [
    "## Time-Stepping and Output\n",
    "\n",
    "The time-stepping loop solves the problem, updates the solution, and saves results to the XDMF file and GIF. We print the maximum solution value to quantify the bad results (expect slow decay compared to correct Dirichlet BCs)."
   ]
  },
  {
   "cell_type": "code",
   "execution_count": null,
   "metadata": {},
   "outputs": [],
   "source": [
    "for i in range(num_steps):\n",
    "    t += dt\n",
    "\n",
    "    # Update right-hand side\n",
    "    with b.localForm() as loc_b:\n",
    "        loc_b.set(0)\n",
    "    assemble_vector(b, linear_form)\n",
    "    apply_lifting(b, [bilinear_form], [[bc]])\n",
    "    b.ghostUpdate(addv=PETSc.InsertMode.ADD_VALUES, mode=PETSc.ScatterMode.REVERSE)\n",
    "    set_bc(b, [bc])\n",
    "\n",
    "    # Solve\n",
    "    solver.solve(b, uh.x.petsc_vec)\n",
    "    uh.x.scatter_forward()\n",
    "\n",
    "    # Update previous solution\n",
    "    u_n.x.array[:] = uh.x.array\n",
    "\n",
    "    # Write to file\n",
    "    xdmf.write_function(uh, t)\n",
    "\n",
    "    # Update plot\n",
    "    new_warped = grid.warp_by_scalar(\"uh\", factor=1)\n",
    "    warped.points[:, :] = new_warped.points\n",
    "    warped.point_data[\"uh\"][:] = uh.x.array\n",
    "    plotter.write_frame()\n",
    "\n",
    "    # Print max solution value to check bad results\n",
    "    print(f\"Time {t:.2f}, Max u: {np.max(uh.x.array):.2e}\")\n",
    "\n",
    "plotter.close()\n",
    "xdmf.close()"
   ]
  },
  {
   "cell_type": "markdown",
   "metadata": {},
   "source": [
    "![gif](poor_boundary.gif)",
    "\n",
    "## Expected Results and Verification\n",
    "\n",
    "The solver will converge, but the solution will be unphysical due to Neumann boundary conditions trapping the Gaussian hill. Expected issues:\n",
    "- **Persistent High Values**: The max solution value will decay slowly (e.g., max $u \\approx 0.5$–$0.8$ at $t=1.0$, vs. $<0.1$ with correct Dirichlet BCs).\n",
    "- **Boundary Artifacts**: Oscillations or high values near boundaries in the GIF and Paraview output.\n",
    "- **Visualization**: The GIF (`bad_boundary_u_time.gif`) and XDMF file (`bad_boundary_diffusion.xdmf`) will show a Gaussian that doesn’t flatten properly, with trapped mass.\n",
    "\n",
    "To verify in Paraview:\n",
    "1. Open `bad_boundary_diffusion.xdmf` (`File -> Open`, `Apply`).\n",
    "2. Add `Annotate Time` (`Sources -> Alphabetical -> Annotate Time`, `Apply`).\n",
    "3. Save animation (`File -> Save Animation`, AVI, 5–10 fps).\n",
    "4. Look for persistent high values and boundary artifacts."
   ]
  }
 ],
 "metadata": {
  "jupytext": {
   "formats": "ipynb,py:light"
  },
  "kernelspec": {
   "display_name": "Python 3 (ipykernel)",
   "language": "python",
   "name": "python3"
  },
  "language_info": {
   "codemirror_mode": {
    "name": "ipython",
    "version": 3
   },
   "file_extension": ".py",
   "mimetype": "text/x-python",
   "name": "python",
   "nbconvert_exporter": "python",
   "pygments_lexer": "ipython3",
   "version": "3.13.3"
  }
 },
 "nbformat": 4,
 "nbformat_minor": 4
}
